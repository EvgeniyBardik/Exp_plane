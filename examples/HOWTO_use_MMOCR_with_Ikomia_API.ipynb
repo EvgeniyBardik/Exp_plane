{
  "cells": [
    {
      "cell_type": "markdown",
      "metadata": {
        "id": "PEfmYMraHJmH"
      },
      "source": [
        "<img src='https://github.com/Ikomia-dev/notebooks/blob/main/examples/img/banner_ikomia.png?raw=true'>\n",
        "\n",
        "\n"
      ]
    },
    {
      "cell_type": "markdown",
      "metadata": {
        "id": "8Ax-4xU7HJmO"
      },
      "source": [
        "# Easy text extraction with MMOCR"
      ]
    },
    {
      "cell_type": "markdown",
      "metadata": {
        "id": "ZC0L9CK3HJmP"
      },
      "source": [
        "MMOCR shines as a top-tier Optical Character Recognition (OCR) toolbox, especially within the Python community.\n",
        "\n",
        "\n",
        "![MMOCR illustration](https://assets-global.website-files.com/645cec60ffb18d5ebb37da4b/652519f32d43293fdac8e303_ikomia_output3.jpg)"
      ]
    },
    {
      "cell_type": "markdown",
      "metadata": {
        "id": "jUa9YEmuHJmQ"
      },
      "source": [
        "## Setup"
      ]
    },
    {
      "cell_type": "markdown",
      "metadata": {
        "id": "ZFV9d3NsHJmR"
      },
      "source": [
        "You need to install Ikomia Python API with pip\n"
      ]
    },
    {
      "cell_type": "code",
      "execution_count": 1,
      "metadata": {
        "colab": {
          "base_uri": "https://localhost:8080/"
        },
        "id": "wEt7fAg1HJmS",
        "outputId": "40490f35-1fa1-4fa3-808f-99c446763637"
      },
      "outputs": [
        {
          "output_type": "stream",
          "name": "stdout",
          "text": [
            "Requirement already satisfied: ikomia in /usr/local/lib/python3.11/dist-packages (0.14.0)\n",
            "Requirement already satisfied: cython in /usr/local/lib/python3.11/dist-packages (from ikomia) (3.0.12)\n",
            "Requirement already satisfied: setuptools==73.0.1 in /usr/local/lib/python3.11/dist-packages (from ikomia) (73.0.1)\n",
            "Requirement already satisfied: numpy<2.0,>=1.24.4 in /usr/local/lib/python3.11/dist-packages (from ikomia) (1.26.4)\n",
            "Requirement already satisfied: requests<3.0,>=2.28.0 in /usr/local/lib/python3.11/dist-packages (from ikomia) (2.32.3)\n",
            "Requirement already satisfied: mlflow<3.0,>=2.17.2 in /usr/local/lib/python3.11/dist-packages (from ikomia) (2.22.1)\n",
            "Requirement already satisfied: tensorboard<3.0,>=2.5.0 in /usr/local/lib/python3.11/dist-packages (from ikomia) (2.18.0)\n",
            "Requirement already satisfied: Pillow>=8.1.0 in /usr/local/lib/python3.11/dist-packages (from ikomia) (11.2.1)\n",
            "Requirement already satisfied: tqdm<5.0,>=4.41.0 in /usr/local/lib/python3.11/dist-packages (from ikomia) (4.67.1)\n",
            "Requirement already satisfied: matplotlib<4.0,>=3.4.3 in /usr/local/lib/python3.11/dist-packages (from ikomia) (3.10.0)\n",
            "Requirement already satisfied: python-dotenv>=0.18.0 in /usr/local/lib/python3.11/dist-packages (from ikomia) (1.1.0)\n",
            "Requirement already satisfied: pyyaml in /usr/local/lib/python3.11/dist-packages (from ikomia) (6.0.2)\n",
            "Requirement already satisfied: semver<4.0,>=3.0.1 in /usr/local/lib/python3.11/dist-packages (from ikomia) (3.0.4)\n",
            "Requirement already satisfied: contourpy>=1.0.1 in /usr/local/lib/python3.11/dist-packages (from matplotlib<4.0,>=3.4.3->ikomia) (1.3.2)\n",
            "Requirement already satisfied: cycler>=0.10 in /usr/local/lib/python3.11/dist-packages (from matplotlib<4.0,>=3.4.3->ikomia) (0.12.1)\n",
            "Requirement already satisfied: fonttools>=4.22.0 in /usr/local/lib/python3.11/dist-packages (from matplotlib<4.0,>=3.4.3->ikomia) (4.58.2)\n",
            "Requirement already satisfied: kiwisolver>=1.3.1 in /usr/local/lib/python3.11/dist-packages (from matplotlib<4.0,>=3.4.3->ikomia) (1.4.8)\n",
            "Requirement already satisfied: packaging>=20.0 in /usr/local/lib/python3.11/dist-packages (from matplotlib<4.0,>=3.4.3->ikomia) (24.2)\n",
            "Requirement already satisfied: pyparsing>=2.3.1 in /usr/local/lib/python3.11/dist-packages (from matplotlib<4.0,>=3.4.3->ikomia) (3.2.3)\n",
            "Requirement already satisfied: python-dateutil>=2.7 in /usr/local/lib/python3.11/dist-packages (from matplotlib<4.0,>=3.4.3->ikomia) (2.9.0.post0)\n",
            "Requirement already satisfied: mlflow-skinny==2.22.1 in /usr/local/lib/python3.11/dist-packages (from mlflow<3.0,>=2.17.2->ikomia) (2.22.1)\n",
            "Requirement already satisfied: Flask<4 in /usr/local/lib/python3.11/dist-packages (from mlflow<3.0,>=2.17.2->ikomia) (3.1.1)\n",
            "Requirement already satisfied: Jinja2<4,>=2.11 in /usr/local/lib/python3.11/dist-packages (from mlflow<3.0,>=2.17.2->ikomia) (3.1.6)\n",
            "Requirement already satisfied: alembic!=1.10.0,<2 in /usr/local/lib/python3.11/dist-packages (from mlflow<3.0,>=2.17.2->ikomia) (1.16.2)\n",
            "Requirement already satisfied: docker<8,>=4.0.0 in /usr/local/lib/python3.11/dist-packages (from mlflow<3.0,>=2.17.2->ikomia) (7.1.0)\n",
            "Requirement already satisfied: graphene<4 in /usr/local/lib/python3.11/dist-packages (from mlflow<3.0,>=2.17.2->ikomia) (3.4.3)\n",
            "Requirement already satisfied: gunicorn<24 in /usr/local/lib/python3.11/dist-packages (from mlflow<3.0,>=2.17.2->ikomia) (23.0.0)\n",
            "Requirement already satisfied: markdown<4,>=3.3 in /usr/local/lib/python3.11/dist-packages (from mlflow<3.0,>=2.17.2->ikomia) (3.8)\n",
            "Requirement already satisfied: pandas!=2.3.0,<3 in /usr/local/lib/python3.11/dist-packages (from mlflow<3.0,>=2.17.2->ikomia) (2.2.2)\n",
            "Requirement already satisfied: pyarrow<20,>=4.0.0 in /usr/local/lib/python3.11/dist-packages (from mlflow<3.0,>=2.17.2->ikomia) (18.1.0)\n",
            "Requirement already satisfied: scikit-learn<2 in /usr/local/lib/python3.11/dist-packages (from mlflow<3.0,>=2.17.2->ikomia) (1.6.1)\n",
            "Requirement already satisfied: scipy<2 in /usr/local/lib/python3.11/dist-packages (from mlflow<3.0,>=2.17.2->ikomia) (1.15.3)\n",
            "Requirement already satisfied: sqlalchemy<3,>=1.4.0 in /usr/local/lib/python3.11/dist-packages (from mlflow<3.0,>=2.17.2->ikomia) (2.0.41)\n",
            "Requirement already satisfied: cachetools<6,>=5.0.0 in /usr/local/lib/python3.11/dist-packages (from mlflow-skinny==2.22.1->mlflow<3.0,>=2.17.2->ikomia) (5.5.2)\n",
            "Requirement already satisfied: click<9,>=7.0 in /usr/local/lib/python3.11/dist-packages (from mlflow-skinny==2.22.1->mlflow<3.0,>=2.17.2->ikomia) (8.2.1)\n",
            "Requirement already satisfied: cloudpickle<4 in /usr/local/lib/python3.11/dist-packages (from mlflow-skinny==2.22.1->mlflow<3.0,>=2.17.2->ikomia) (3.1.1)\n",
            "Requirement already satisfied: databricks-sdk<1,>=0.20.0 in /usr/local/lib/python3.11/dist-packages (from mlflow-skinny==2.22.1->mlflow<3.0,>=2.17.2->ikomia) (0.57.0)\n",
            "Requirement already satisfied: fastapi<1 in /usr/local/lib/python3.11/dist-packages (from mlflow-skinny==2.22.1->mlflow<3.0,>=2.17.2->ikomia) (0.115.12)\n",
            "Requirement already satisfied: gitpython<4,>=3.1.9 in /usr/local/lib/python3.11/dist-packages (from mlflow-skinny==2.22.1->mlflow<3.0,>=2.17.2->ikomia) (3.1.44)\n",
            "Requirement already satisfied: importlib_metadata!=4.7.0,<9,>=3.7.0 in /usr/local/lib/python3.11/dist-packages (from mlflow-skinny==2.22.1->mlflow<3.0,>=2.17.2->ikomia) (8.7.0)\n",
            "Requirement already satisfied: opentelemetry-api<3,>=1.9.0 in /usr/local/lib/python3.11/dist-packages (from mlflow-skinny==2.22.1->mlflow<3.0,>=2.17.2->ikomia) (1.34.1)\n",
            "Requirement already satisfied: opentelemetry-sdk<3,>=1.9.0 in /usr/local/lib/python3.11/dist-packages (from mlflow-skinny==2.22.1->mlflow<3.0,>=2.17.2->ikomia) (1.34.1)\n",
            "Requirement already satisfied: protobuf<7,>=3.12.0 in /usr/local/lib/python3.11/dist-packages (from mlflow-skinny==2.22.1->mlflow<3.0,>=2.17.2->ikomia) (5.29.5)\n",
            "Requirement already satisfied: pydantic<3,>=1.10.8 in /usr/local/lib/python3.11/dist-packages (from mlflow-skinny==2.22.1->mlflow<3.0,>=2.17.2->ikomia) (2.11.5)\n",
            "Requirement already satisfied: sqlparse<1,>=0.4.0 in /usr/local/lib/python3.11/dist-packages (from mlflow-skinny==2.22.1->mlflow<3.0,>=2.17.2->ikomia) (0.5.3)\n",
            "Requirement already satisfied: typing-extensions<5,>=4.0.0 in /usr/local/lib/python3.11/dist-packages (from mlflow-skinny==2.22.1->mlflow<3.0,>=2.17.2->ikomia) (4.14.0)\n",
            "Requirement already satisfied: uvicorn<1 in /usr/local/lib/python3.11/dist-packages (from mlflow-skinny==2.22.1->mlflow<3.0,>=2.17.2->ikomia) (0.34.3)\n",
            "Requirement already satisfied: charset-normalizer<4,>=2 in /usr/local/lib/python3.11/dist-packages (from requests<3.0,>=2.28.0->ikomia) (3.4.2)\n",
            "Requirement already satisfied: idna<4,>=2.5 in /usr/local/lib/python3.11/dist-packages (from requests<3.0,>=2.28.0->ikomia) (3.10)\n",
            "Requirement already satisfied: urllib3<3,>=1.21.1 in /usr/local/lib/python3.11/dist-packages (from requests<3.0,>=2.28.0->ikomia) (2.4.0)\n",
            "Requirement already satisfied: certifi>=2017.4.17 in /usr/local/lib/python3.11/dist-packages (from requests<3.0,>=2.28.0->ikomia) (2025.4.26)\n",
            "Requirement already satisfied: absl-py>=0.4 in /usr/local/lib/python3.11/dist-packages (from tensorboard<3.0,>=2.5.0->ikomia) (1.4.0)\n",
            "Requirement already satisfied: grpcio>=1.48.2 in /usr/local/lib/python3.11/dist-packages (from tensorboard<3.0,>=2.5.0->ikomia) (1.73.0)\n",
            "Requirement already satisfied: six>1.9 in /usr/local/lib/python3.11/dist-packages (from tensorboard<3.0,>=2.5.0->ikomia) (1.17.0)\n",
            "Requirement already satisfied: tensorboard-data-server<0.8.0,>=0.7.0 in /usr/local/lib/python3.11/dist-packages (from tensorboard<3.0,>=2.5.0->ikomia) (0.7.2)\n",
            "Requirement already satisfied: werkzeug>=1.0.1 in /usr/local/lib/python3.11/dist-packages (from tensorboard<3.0,>=2.5.0->ikomia) (3.1.3)\n",
            "Requirement already satisfied: Mako in /usr/lib/python3/dist-packages (from alembic!=1.10.0,<2->mlflow<3.0,>=2.17.2->ikomia) (1.1.3)\n",
            "Requirement already satisfied: blinker>=1.9.0 in /usr/local/lib/python3.11/dist-packages (from Flask<4->mlflow<3.0,>=2.17.2->ikomia) (1.9.0)\n",
            "Requirement already satisfied: itsdangerous>=2.2.0 in /usr/local/lib/python3.11/dist-packages (from Flask<4->mlflow<3.0,>=2.17.2->ikomia) (2.2.0)\n",
            "Requirement already satisfied: markupsafe>=2.1.1 in /usr/local/lib/python3.11/dist-packages (from Flask<4->mlflow<3.0,>=2.17.2->ikomia) (3.0.2)\n",
            "Requirement already satisfied: graphql-core<3.3,>=3.1 in /usr/local/lib/python3.11/dist-packages (from graphene<4->mlflow<3.0,>=2.17.2->ikomia) (3.2.6)\n",
            "Requirement already satisfied: graphql-relay<3.3,>=3.1 in /usr/local/lib/python3.11/dist-packages (from graphene<4->mlflow<3.0,>=2.17.2->ikomia) (3.2.0)\n",
            "Requirement already satisfied: pytz>=2020.1 in /usr/local/lib/python3.11/dist-packages (from pandas!=2.3.0,<3->mlflow<3.0,>=2.17.2->ikomia) (2025.2)\n",
            "Requirement already satisfied: tzdata>=2022.7 in /usr/local/lib/python3.11/dist-packages (from pandas!=2.3.0,<3->mlflow<3.0,>=2.17.2->ikomia) (2025.2)\n",
            "Requirement already satisfied: joblib>=1.2.0 in /usr/local/lib/python3.11/dist-packages (from scikit-learn<2->mlflow<3.0,>=2.17.2->ikomia) (1.5.1)\n",
            "Requirement already satisfied: threadpoolctl>=3.1.0 in /usr/local/lib/python3.11/dist-packages (from scikit-learn<2->mlflow<3.0,>=2.17.2->ikomia) (3.6.0)\n",
            "Requirement already satisfied: greenlet>=1 in /usr/local/lib/python3.11/dist-packages (from sqlalchemy<3,>=1.4.0->mlflow<3.0,>=2.17.2->ikomia) (3.2.3)\n",
            "Requirement already satisfied: google-auth~=2.0 in /usr/local/lib/python3.11/dist-packages (from databricks-sdk<1,>=0.20.0->mlflow-skinny==2.22.1->mlflow<3.0,>=2.17.2->ikomia) (2.38.0)\n",
            "Requirement already satisfied: starlette<0.47.0,>=0.40.0 in /usr/local/lib/python3.11/dist-packages (from fastapi<1->mlflow-skinny==2.22.1->mlflow<3.0,>=2.17.2->ikomia) (0.46.2)\n",
            "Requirement already satisfied: gitdb<5,>=4.0.1 in /usr/local/lib/python3.11/dist-packages (from gitpython<4,>=3.1.9->mlflow-skinny==2.22.1->mlflow<3.0,>=2.17.2->ikomia) (4.0.12)\n",
            "Requirement already satisfied: zipp>=3.20 in /usr/local/lib/python3.11/dist-packages (from importlib_metadata!=4.7.0,<9,>=3.7.0->mlflow-skinny==2.22.1->mlflow<3.0,>=2.17.2->ikomia) (3.23.0)\n",
            "Requirement already satisfied: opentelemetry-semantic-conventions==0.55b1 in /usr/local/lib/python3.11/dist-packages (from opentelemetry-sdk<3,>=1.9.0->mlflow-skinny==2.22.1->mlflow<3.0,>=2.17.2->ikomia) (0.55b1)\n",
            "Requirement already satisfied: annotated-types>=0.6.0 in /usr/local/lib/python3.11/dist-packages (from pydantic<3,>=1.10.8->mlflow-skinny==2.22.1->mlflow<3.0,>=2.17.2->ikomia) (0.7.0)\n",
            "Requirement already satisfied: pydantic-core==2.33.2 in /usr/local/lib/python3.11/dist-packages (from pydantic<3,>=1.10.8->mlflow-skinny==2.22.1->mlflow<3.0,>=2.17.2->ikomia) (2.33.2)\n",
            "Requirement already satisfied: typing-inspection>=0.4.0 in /usr/local/lib/python3.11/dist-packages (from pydantic<3,>=1.10.8->mlflow-skinny==2.22.1->mlflow<3.0,>=2.17.2->ikomia) (0.4.1)\n",
            "Requirement already satisfied: h11>=0.8 in /usr/local/lib/python3.11/dist-packages (from uvicorn<1->mlflow-skinny==2.22.1->mlflow<3.0,>=2.17.2->ikomia) (0.16.0)\n",
            "Requirement already satisfied: smmap<6,>=3.0.1 in /usr/local/lib/python3.11/dist-packages (from gitdb<5,>=4.0.1->gitpython<4,>=3.1.9->mlflow-skinny==2.22.1->mlflow<3.0,>=2.17.2->ikomia) (5.0.2)\n",
            "Requirement already satisfied: pyasn1-modules>=0.2.1 in /usr/local/lib/python3.11/dist-packages (from google-auth~=2.0->databricks-sdk<1,>=0.20.0->mlflow-skinny==2.22.1->mlflow<3.0,>=2.17.2->ikomia) (0.4.2)\n",
            "Requirement already satisfied: rsa<5,>=3.1.4 in /usr/local/lib/python3.11/dist-packages (from google-auth~=2.0->databricks-sdk<1,>=0.20.0->mlflow-skinny==2.22.1->mlflow<3.0,>=2.17.2->ikomia) (4.9.1)\n",
            "Requirement already satisfied: anyio<5,>=3.6.2 in /usr/local/lib/python3.11/dist-packages (from starlette<0.47.0,>=0.40.0->fastapi<1->mlflow-skinny==2.22.1->mlflow<3.0,>=2.17.2->ikomia) (4.9.0)\n",
            "Requirement already satisfied: sniffio>=1.1 in /usr/local/lib/python3.11/dist-packages (from anyio<5,>=3.6.2->starlette<0.47.0,>=0.40.0->fastapi<1->mlflow-skinny==2.22.1->mlflow<3.0,>=2.17.2->ikomia) (1.3.1)\n",
            "Requirement already satisfied: pyasn1<0.7.0,>=0.6.1 in /usr/local/lib/python3.11/dist-packages (from pyasn1-modules>=0.2.1->google-auth~=2.0->databricks-sdk<1,>=0.20.0->mlflow-skinny==2.22.1->mlflow<3.0,>=2.17.2->ikomia) (0.6.1)\n"
          ]
        }
      ],
      "source": [
        "!pip install ikomia"
      ]
    },
    {
      "cell_type": "markdown",
      "metadata": {
        "id": "LrxJqdtQHJmW"
      },
      "source": [
        "## Run MMOCR on your image"
      ]
    },
    {
      "cell_type": "markdown",
      "metadata": {
        "id": "SDsjf2IUHJmX"
      },
      "source": [
        "---\n",
        "\n",
        "**-Google Colab ONLY- Restart runtime after the first run of the workflow below**\n",
        "\n",
        "Click on the \"RESTART RUNTIME\" button at the end the previous window.\n",
        "\n",
        "---"
      ]
    },
    {
      "cell_type": "code",
      "execution_count": null,
      "metadata": {
        "id": "n9d8_kNfHJmY"
      },
      "outputs": [],
      "source": [
        "from ikomia.dataprocess.workflow import Workflow\n",
        "\n",
        "# Init your workflow\n",
        "wf = Workflow()\n",
        "\n",
        "# Add text detection algorithm\n",
        "text_det = wf.add_task(name=\"infer_mmlab_text_detection\", auto_connect=True)\n",
        "\n",
        "# Add text recognition algorithm\n",
        "text_rec = wf.add_task(name=\"infer_mmlab_text_recognition\", auto_connect=True)\n",
        "\n",
        "# Run the workflow on image\n",
        "wf.run_on(url=\"https://i.imgur.com/NBjDGRs.png\")\n"
      ]
    },
    {
      "cell_type": "code",
      "execution_count": null,
      "metadata": {
        "id": "RGBGlB6uHJmZ"
      },
      "outputs": [],
      "source": [
        "from PIL import Image\n",
        "from IPython.display import display\n",
        "\n",
        "# Display results\n",
        "img_output = text_rec.get_output(0)\n",
        "recognition_output = text_rec.get_output(1)\n",
        "image_data = img_output.get_image_with_mask_and_graphics(recognition_output)\n",
        "\n",
        "# Create a PIL Image from the NumPy array\n",
        "image = Image.fromarray(image_data)\n",
        "\n",
        "# Display the image\n",
        "display(image)"
      ]
    }
  ],
  "metadata": {
    "kernelspec": {
      "display_name": "venvapi",
      "language": "python",
      "name": "venvapi"
    },
    "language_info": {
      "codemirror_mode": {
        "name": "ipython",
        "version": 3
      },
      "file_extension": ".py",
      "mimetype": "text/x-python",
      "name": "python",
      "nbconvert_exporter": "python",
      "pygments_lexer": "ipython3",
      "version": "3.9.13"
    },
    "orig_nbformat": 4,
    "colab": {
      "provenance": []
    }
  },
  "nbformat": 4,
  "nbformat_minor": 0
}